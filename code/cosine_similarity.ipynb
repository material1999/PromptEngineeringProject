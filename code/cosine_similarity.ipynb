{
 "cells": [
  {
   "metadata": {
    "ExecuteTime": {
     "end_time": "2025-01-08T14:46:05.512226Z",
     "start_time": "2025-01-08T14:46:04.694112Z"
    }
   },
   "cell_type": "code",
   "source": [
    "from sklearn.metrics.pairwise import cosine_similarity\n",
    "import numpy as np\n",
    "import json\n",
    "import re"
   ],
   "id": "7df9140457caed5e",
   "outputs": [],
   "execution_count": 1
  },
  {
   "metadata": {
    "ExecuteTime": {
     "end_time": "2025-01-08T14:46:06.219555Z",
     "start_time": "2025-01-08T14:46:06.214517Z"
    }
   },
   "cell_type": "code",
   "source": [
    "gold_path = \"../data/gold_pairs/memoryalpha-stexpanded_formatted.txt\"\n",
    "\n",
    "dogtags_path_stexpanded = \"../data/dogtags/stexpanded_lab_altlab_type_abs_comment.json\"\n",
    "dogtags_path_memoryalpha = \"../data/dogtags/memoryalpha_lab_altlab_type_abs_comment.json\"\n",
    "\n",
    "embeddings_path_stexpanded = \"../data/embeddings/stexpanded_lab_altlab_type_abs_comment_BAAI_bge-large-en-v1.5.json\"\n",
    "embeddings_path_memoryalpha = \"../data/embeddings/memoryalpha_lab_altlab_type_abs_comment_BAAI_bge-large-en-v1.5.json\""
   ],
   "id": "16d0c8f1e2ccb79a",
   "outputs": [],
   "execution_count": 2
  },
  {
   "metadata": {
    "ExecuteTime": {
     "end_time": "2025-01-08T14:46:07.218885Z",
     "start_time": "2025-01-08T14:46:07.215434Z"
    }
   },
   "cell_type": "code",
   "source": [
    "gold = []\n",
    "dogtags_stexpanded = dict()\n",
    "dogtags_memoryalpha = dict()\n",
    "embeddings_stexpanded = dict()\n",
    "embeddings_memoryalpha = dict()\n",
    "\n",
    "top5_dict = dict()"
   ],
   "id": "b15cc571a6106bab",
   "outputs": [],
   "execution_count": 3
  },
  {
   "metadata": {
    "ExecuteTime": {
     "end_time": "2025-01-08T14:46:12.025735Z",
     "start_time": "2025-01-08T14:46:08.138071Z"
    }
   },
   "cell_type": "code",
   "source": [
    "with open(gold_path, \"r\") as gf, open(dogtags_path_stexpanded, \"r\") as dfs, open(dogtags_path_memoryalpha, \"r\") as dfm, open(embeddings_path_stexpanded, \"r\") as efs, open(embeddings_path_memoryalpha, \"r\") as efm:\n",
    "\n",
    "    for line in gf:\n",
    "        numbers_list = [int(num) for num in line.strip().split(\";\")]\n",
    "        gold.append(numbers_list)\n",
    "\n",
    "    dogtags_stexpanded = json.load(dfs)\n",
    "    for key, value in dogtags_stexpanded.items():\n",
    "        dogtags_stexpanded[key] = re.sub(r'\\n+', '\\n', value)\n",
    "\n",
    "    dogtags_memoryalpha = json.load(dfm)\n",
    "    for key, value in dogtags_memoryalpha.items():\n",
    "        dogtags_memoryalpha[key] = re.sub(r'\\n+', '\\n', value)\n",
    "\n",
    "    embeddings_stexpanded = json.load(efs)"
   ],
   "id": "681d328ac195ce81",
   "outputs": [],
   "execution_count": 4
  },
  {
   "metadata": {},
   "cell_type": "code",
   "source": "print(embeddings_stexpanded.keys())",
   "id": "ccab371033b89af7",
   "outputs": [],
   "execution_count": null
  },
  {
   "metadata": {},
   "cell_type": "code",
   "source": "",
   "id": "581331e969f0b85c",
   "outputs": [],
   "execution_count": null
  }
 ],
 "metadata": {
  "kernelspec": {
   "display_name": "Python 3",
   "language": "python",
   "name": "python3"
  },
  "language_info": {
   "codemirror_mode": {
    "name": "ipython",
    "version": 2
   },
   "file_extension": ".py",
   "mimetype": "text/x-python",
   "name": "python",
   "nbconvert_exporter": "python",
   "pygments_lexer": "ipython2",
   "version": "2.7.6"
  }
 },
 "nbformat": 4,
 "nbformat_minor": 5
}
